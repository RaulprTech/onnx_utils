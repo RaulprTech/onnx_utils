{
 "cells": [
  {
   "cell_type": "code",
   "execution_count": 134,
   "metadata": {},
   "outputs": [],
   "source": [
    "import sys\n",
    "sys.path.append('../')\n",
    "import onnx\n",
    "# import torch # Activate if use input_to_value\n",
    "from onnx_utils import *\n",
    "\n",
    "\n",
    "onnx_model_path = \"../models/resnet18.onnx\""
   ]
  },
  {
   "cell_type": "code",
   "execution_count": 135,
   "metadata": {},
   "outputs": [
    {
     "name": "stdout",
     "output_type": "stream",
     "text": [
      "Nombres de las capas:\n",
      "['/conv1/Conv', '/relu/Relu', '/maxpool/MaxPool', '/layer1/layer1.0/conv1/Conv', '/layer1/layer1.0/relu/Relu', '/layer1/layer1.0/conv2/Conv', '/layer1/layer1.0/Add', '/layer1/layer1.0/relu_1/Relu', '/layer1/layer1.1/conv1/Conv', '/layer1/layer1.1/relu/Relu', '/layer1/layer1.1/conv2/Conv', '/layer1/layer1.1/Add', '/layer1/layer1.1/relu_1/Relu', '/layer2/layer2.0/conv1/Conv', '/layer2/layer2.0/relu/Relu', '/layer2/layer2.0/conv2/Conv', '/layer2/layer2.0/downsample/downsample.0/Conv', '/layer2/layer2.0/Add', '/layer2/layer2.0/relu_1/Relu', '/layer2/layer2.1/conv1/Conv', '/layer2/layer2.1/relu/Relu', '/layer2/layer2.1/conv2/Conv', '/layer2/layer2.1/Add', '/layer2/layer2.1/relu_1/Relu', '/layer3/layer3.0/conv1/Conv', '/layer3/layer3.0/relu/Relu', '/layer3/layer3.0/conv2/Conv', '/layer3/layer3.0/downsample/downsample.0/Conv', '/layer3/layer3.0/Add', '/layer3/layer3.0/relu_1/Relu', '/layer3/layer3.1/conv1/Conv', '/layer3/layer3.1/relu/Relu', '/layer3/layer3.1/conv2/Conv', '/layer3/layer3.1/Add', '/layer3/layer3.1/relu_1/Relu', '/layer4/layer4.0/conv1/Conv', '/layer4/layer4.0/relu/Relu', '/layer4/layer4.0/conv2/Conv', '/layer4/layer4.0/downsample/downsample.0/Conv', '/layer4/layer4.0/Add', '/layer4/layer4.0/relu_1/Relu', '/layer4/layer4.1/conv1/Conv', '/layer4/layer4.1/relu/Relu', '/layer4/layer4.1/conv2/Conv', '/layer4/layer4.1/Add', '/layer4/layer4.1/relu_1/Relu', '/avgpool/GlobalAveragePool', '/Flatten', '/fc/Gemm']\n",
      "Hay un total de 49 capas\n"
     ]
    }
   ],
   "source": [
    "# Ejemplo de uso: obtener una lista de los nombres de todas las capas en el modelo ONNX\n",
    "layer_names = get_layer_names(onnx_model_path)\n",
    "print(\"Nombres de las capas:\")\n",
    "print(layer_names)\n",
    "print(f\"Hay un total de {len(layer_names)} capas\")"
   ]
  },
  {
   "cell_type": "code",
   "execution_count": 136,
   "metadata": {},
   "outputs": [],
   "source": [
    "class Layer:\n",
    "    def __init__(self, onnx_model_path, layer_name):\n",
    "        self.model = onnx.load(onnx_model_path)\n",
    "        self.graph = self.model.graph\n",
    "        self.layer_name = layer_name\n",
    "        self.node = self._find_node_by_name(layer_name)\n",
    "\n",
    "    def _find_node_by_name(self, name):\n",
    "        for node in self.graph.node:\n",
    "            if node.name == name:\n",
    "                return node\n",
    "        raise ValueError(f\"No se encontró una capa con el nombre {name}\")\n",
    "\n",
    "    def get_inputs(self):\n",
    "        return self.node.input[0]\n",
    "\n",
    "    def get_outputs(self):\n",
    "        return self.node.output\n",
    "\n",
    "    def get_attribute(self, attr_name):\n",
    "        for attr in self.node.attribute:\n",
    "            if attr.name == attr_name:\n",
    "                return attr\n",
    "        return None"
   ]
  },
  {
   "cell_type": "code",
   "execution_count": 137,
   "metadata": {},
   "outputs": [],
   "source": [
    "class ConvLayer(Layer):\n",
    "    def __init__(self, onnx_model_path, layer_name):\n",
    "        super().__init__(onnx_model_path, layer_name)\n",
    "\n",
    "    def get_weights(self):\n",
    "        for initializer in self.graph.initializer:\n",
    "            if initializer.name == self.node.input[1]:  # Suponiendo que el segundo input es el peso\n",
    "                return initializer.name\n",
    "\n",
    "    def get_bias(self):\n",
    "        for initializer in self.graph.initializer:\n",
    "            if initializer.name == self.node.input[2]:  # Suponiendo que el tercer input es el sesgo\n",
    "                b = \"\" + initializer.name\n",
    "                return b\n",
    "\n",
    "    def get_kernel_size(self):\n",
    "        return self.get_attribute('kernel_shape').ints\n",
    "\n",
    "    def get_stride(self):\n",
    "        return self.get_attribute('strides').ints\n",
    "\n",
    "    def get_padding(self):\n",
    "        return self.get_attribute('pads').ints\n",
    "\n",
    "    def get_groups(self):\n",
    "        return self.get_attribute('group').i"
   ]
  },
  {
   "cell_type": "code",
   "execution_count": 138,
   "metadata": {},
   "outputs": [
    {
     "name": "stdout",
     "output_type": "stream",
     "text": [
      "Conv Layer Weights: onnx::Conv_193\n",
      "Conv Layer Bias: onnx::Conv_194\n",
      "Conv Layer Kernel Size: [7, 7]\n",
      "Conv Layer Stride: [2, 2]\n",
      "Conv Layer Padding: [3, 3, 3, 3]\n",
      "Conv Layer Groups: 1\n",
      "Inputs de la capa: input.1\n",
      "Outputs de la capa: ['/conv1/Conv_output_0']\n"
     ]
    }
   ],
   "source": [
    "# Ejemplo de uso:\n",
    "\n",
    "conv_layer = ConvLayer(onnx_model_path, layer_names[0])\n",
    "print(\"Conv Layer Weights:\", conv_layer.get_weights())\n",
    "print(\"Conv Layer Bias:\", conv_layer.get_bias())\n",
    "\n",
    "print(\"Conv Layer Kernel Size:\", conv_layer.get_kernel_size())\n",
    "print(\"Conv Layer Stride:\", conv_layer.get_stride())\n",
    "print(\"Conv Layer Padding:\", conv_layer.get_padding())\n",
    "print(\"Conv Layer Groups:\", conv_layer.get_groups())\n",
    "\n",
    "# Obtener los inputs y outputs de la capa convolucional\n",
    "print(f\"Inputs de la capa: {conv_layer.get_inputs()}\")\n",
    "print(f\"Outputs de la capa: {conv_layer.get_outputs()}\")"
   ]
  },
  {
   "cell_type": "code",
   "execution_count": 139,
   "metadata": {},
   "outputs": [],
   "source": [
    "class ReluLayer(Layer):\n",
    "    def __init__(self, onnx_model_path, layer_name):\n",
    "        super().__init__(onnx_model_path, layer_name)"
   ]
  },
  {
   "cell_type": "code",
   "execution_count": 140,
   "metadata": {},
   "outputs": [
    {
     "name": "stdout",
     "output_type": "stream",
     "text": [
      "ReLU Layer Inputs: /layer1/layer1.0/conv1/Conv_output_0\n",
      "ReLU Layer Outputs: ['/layer1/layer1.0/relu/Relu_output_0']\n"
     ]
    }
   ],
   "source": [
    "relu_layer = ReluLayer(onnx_model_path, layer_names[4])\n",
    "print(\"ReLU Layer Inputs:\", relu_layer.get_inputs())\n",
    "print(\"ReLU Layer Outputs:\", relu_layer.get_outputs())"
   ]
  },
  {
   "cell_type": "code",
   "execution_count": 141,
   "metadata": {},
   "outputs": [],
   "source": [
    "class MaxPoolLayer(Layer):\n",
    "    def __init__(self, onnx_model_path, layer_name):\n",
    "        super().__init__(onnx_model_path, layer_name)\n",
    "\n",
    "    def get_kernel_size(self):\n",
    "        return self.get_attribute('kernel_shape').ints\n",
    "\n",
    "    def get_stride(self):\n",
    "        return self.get_attribute('strides').ints\n",
    "\n",
    "    def get_padding(self):\n",
    "        return self.get_attribute('pads').ints"
   ]
  },
  {
   "cell_type": "code",
   "execution_count": 142,
   "metadata": {},
   "outputs": [
    {
     "name": "stdout",
     "output_type": "stream",
     "text": [
      "MaxPool Layer Kernel Size: [3, 3]\n",
      "MaxPool Layer Stride: [2, 2]\n",
      "MaxPool Layer Padding: [1, 1, 1, 1]\n",
      "MaxPool Inputs: /relu/Relu_output_0\n",
      "MaxPool Outputs: ['/maxpool/MaxPool_output_0']\n"
     ]
    }
   ],
   "source": [
    "maxpool_layer = MaxPoolLayer(onnx_model_path, layer_names[2])\n",
    "print(\"MaxPool Layer Kernel Size:\", maxpool_layer.get_kernel_size())\n",
    "print(\"MaxPool Layer Stride:\", maxpool_layer.get_stride())\n",
    "print(\"MaxPool Layer Padding:\", maxpool_layer.get_padding())\n",
    "\n",
    "print(\"MaxPool Inputs:\", maxpool_layer.get_inputs())\n",
    "print(\"MaxPool Outputs:\", maxpool_layer.get_outputs())"
   ]
  },
  {
   "cell_type": "code",
   "execution_count": 143,
   "metadata": {},
   "outputs": [],
   "source": [
    "class AddLayer(Layer):\n",
    "    def __init__(self, onnx_path, layer_name):\n",
    "        super().__init__(onnx_path, layer_name)"
   ]
  },
  {
   "cell_type": "code",
   "execution_count": 144,
   "metadata": {},
   "outputs": [
    {
     "name": "stdout",
     "output_type": "stream",
     "text": [
      "Add Layer Inputs: /layer4/layer4.1/conv2/Conv_output_0\n",
      "Add Layer Outputs: ['/layer4/layer4.1/Add_output_0']\n"
     ]
    }
   ],
   "source": [
    "add_layer = AddLayer(onnx_model_path, layer_names[44])\n",
    "print(\"Add Layer Inputs:\", add_layer.get_inputs())\n",
    "print(\"Add Layer Outputs:\", add_layer.get_outputs())"
   ]
  },
  {
   "cell_type": "code",
   "execution_count": 145,
   "metadata": {},
   "outputs": [],
   "source": [
    "class GlobalAveragePoolLayer(Layer):\n",
    "    def __init__(self, onnx_path, layer_name):\n",
    "        super().__init__(onnx_path, layer_name)"
   ]
  },
  {
   "cell_type": "code",
   "execution_count": 146,
   "metadata": {},
   "outputs": [
    {
     "name": "stdout",
     "output_type": "stream",
     "text": [
      "GlobalAveragePool Layer Inputs: /layer4/layer4.1/relu_1/Relu_output_0\n",
      "GlobalAveragePool Layer Outputs: ['/avgpool/GlobalAveragePool_output_0']\n"
     ]
    }
   ],
   "source": [
    "global_average_pool_layer = GlobalAveragePoolLayer(onnx_model_path, layer_names[46])\n",
    "print(\"GlobalAveragePool Layer Inputs:\", global_average_pool_layer.get_inputs())\n",
    "print(\"GlobalAveragePool Layer Outputs:\", global_average_pool_layer.get_outputs())"
   ]
  },
  {
   "cell_type": "code",
   "execution_count": 147,
   "metadata": {},
   "outputs": [],
   "source": [
    "class FlattenLayer(Layer):\n",
    "    def __init__(self, onnx_path, layer_name):\n",
    "        super().__init__(onnx_path, layer_name)"
   ]
  },
  {
   "cell_type": "code",
   "execution_count": 148,
   "metadata": {},
   "outputs": [
    {
     "name": "stdout",
     "output_type": "stream",
     "text": [
      "Flatten Layer Inputs: /avgpool/GlobalAveragePool_output_0\n",
      "Flatten Layer Outputs: ['/Flatten_output_0']\n"
     ]
    }
   ],
   "source": [
    "flatten_layer = FlattenLayer(onnx_model_path, layer_names[47])\n",
    "print(\"Flatten Layer Inputs:\", flatten_layer.get_inputs())\n",
    "print(\"Flatten Layer Outputs:\", flatten_layer.get_outputs())"
   ]
  },
  {
   "cell_type": "code",
   "execution_count": 149,
   "metadata": {},
   "outputs": [],
   "source": [
    "class GemmLayer(Layer):\n",
    "    def __init__(self, onnx_path, layer_name):\n",
    "        super().__init__(onnx_path, layer_name)\n",
    "\n",
    "    def get_weights(self):\n",
    "        for initializer in self.graph.initializer:\n",
    "            if initializer.name == self.node.input[1]:  # Suponiendo que el segundo input es el peso\n",
    "                return initializer.name\n",
    "\n",
    "    def get_bias(self):\n",
    "        for initializer in self.graph.initializer:\n",
    "            if initializer.name == self.node.input[2]:  # Suponiendo que el tercer input es el sesgo\n",
    "                return initializer.name"
   ]
  },
  {
   "cell_type": "code",
   "execution_count": 150,
   "metadata": {},
   "outputs": [
    {
     "name": "stdout",
     "output_type": "stream",
     "text": [
      "Gemm Layer Inputs: /Flatten_output_0\n",
      "Gemm Layer Outputs: ['191']\n",
      "Gemm Layer Weights: fc.weight\n",
      "Gemm Layer Bias: fc.bias\n"
     ]
    }
   ],
   "source": [
    "gemm_layer = GemmLayer(onnx_model_path, layer_names[48])\n",
    "print(\"Gemm Layer Inputs:\", gemm_layer.get_inputs())\n",
    "print(\"Gemm Layer Outputs:\", gemm_layer.get_outputs())\n",
    "print(\"Gemm Layer Weights:\", gemm_layer.get_weights())\n",
    "print(\"Gemm Layer Bias:\", gemm_layer.get_bias())"
   ]
  }
 ],
 "metadata": {
  "kernelspec": {
   "display_name": "venv",
   "language": "python",
   "name": "python3"
  },
  "language_info": {
   "codemirror_mode": {
    "name": "ipython",
    "version": 3
   },
   "file_extension": ".py",
   "mimetype": "text/x-python",
   "name": "python",
   "nbconvert_exporter": "python",
   "pygments_lexer": "ipython3",
   "version": "3.8.10"
  }
 },
 "nbformat": 4,
 "nbformat_minor": 2
}
